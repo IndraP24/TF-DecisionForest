{
 "cells": [
  {
   "cell_type": "markdown",
   "source": [
    "# Build, train and evaluate models with TensorFlow Decision Forests"
   ],
   "metadata": {}
  },
  {
   "cell_type": "markdown",
   "source": [
    "TensorFlow Decision Forests (TF-DF) is a library for the training, evaluation, interpretation and inference of Decision Forest models.\n",
    "\n",
    "In this tutorial, I learned how to:\n",
    "\n",
    "1. Train a binary classification Random Forest on a dataset containing numerical, categorical and missing features.\n",
    "2. Evaluate the model on a test dataset.\n",
    "3. Prepare the model for [TensorFlow Serving](https://www.tensorflow.org/tfx/guide/serving).\n",
    "4. Examine the overall structure of the model and the importance of each feature.\n",
    "5. Re-train the model with a different learning algorithm (Gradient Boosted Decision Trees).\n",
    "6. Use a different set of input features.\n",
    "7. Change the hyperparameters of the model.\n",
    "8. Preprocess the features.\n",
    "9. Train a model for regression.\n",
    "10. Train a model for ranking.\n",
    "1. \n",
    "Detailed documentation is available in the [user manual](https://github.com/tensorflow/decision-forests/documentation). The [example](https://github.com/tensorflow/decision-forests/examples) directory contains other end-to-end examples."
   ],
   "metadata": {}
  },
  {
   "cell_type": "code",
   "execution_count": 1,
   "source": [
    "!pip install tensorflow_decision_forests\n",
    "!pip install wurlitzer"
   ],
   "outputs": [
    {
     "output_type": "stream",
     "name": "stdout",
     "text": [
      "Requirement already satisfied: tensorflow_decision_forests in /home/indrap24/.conda/envs/tfDL/lib/python3.8/site-packages (0.1.9)\n",
      "Requirement already satisfied: tensorflow~=2.6 in /home/indrap24/.conda/envs/tfDL/lib/python3.8/site-packages (from tensorflow_decision_forests) (2.6.0)\n",
      "Requirement already satisfied: six in /home/indrap24/.conda/envs/tfDL/lib/python3.8/site-packages (from tensorflow_decision_forests) (1.15.0)\n",
      "Requirement already satisfied: absl-py in /home/indrap24/.conda/envs/tfDL/lib/python3.8/site-packages (from tensorflow_decision_forests) (0.12.0)\n",
      "Requirement already satisfied: numpy in /home/indrap24/.conda/envs/tfDL/lib/python3.8/site-packages (from tensorflow_decision_forests) (1.19.5)\n",
      "Requirement already satisfied: wheel in /home/indrap24/.conda/envs/tfDL/lib/python3.8/site-packages (from tensorflow_decision_forests) (0.36.2)\n",
      "Requirement already satisfied: pandas in /home/indrap24/.conda/envs/tfDL/lib/python3.8/site-packages (from tensorflow_decision_forests) (1.2.5)\n",
      "Requirement already satisfied: clang~=5.0 in /home/indrap24/.conda/envs/tfDL/lib/python3.8/site-packages (from tensorflow~=2.6->tensorflow_decision_forests) (5.0)\n",
      "Requirement already satisfied: grpcio<2.0,>=1.37.0 in /home/indrap24/.conda/envs/tfDL/lib/python3.8/site-packages (from tensorflow~=2.6->tensorflow_decision_forests) (1.40.0)\n",
      "Requirement already satisfied: flatbuffers~=1.12.0 in /home/indrap24/.conda/envs/tfDL/lib/python3.8/site-packages (from tensorflow~=2.6->tensorflow_decision_forests) (1.12)\n",
      "Requirement already satisfied: tensorflow-estimator~=2.6 in /home/indrap24/.conda/envs/tfDL/lib/python3.8/site-packages (from tensorflow~=2.6->tensorflow_decision_forests) (2.6.0)\n",
      "Requirement already satisfied: wrapt~=1.12.1 in /home/indrap24/.conda/envs/tfDL/lib/python3.8/site-packages (from tensorflow~=2.6->tensorflow_decision_forests) (1.12.1)\n",
      "Requirement already satisfied: gast==0.4.0 in /home/indrap24/.conda/envs/tfDL/lib/python3.8/site-packages (from tensorflow~=2.6->tensorflow_decision_forests) (0.4.0)\n",
      "Requirement already satisfied: keras~=2.6 in /home/indrap24/.conda/envs/tfDL/lib/python3.8/site-packages (from tensorflow~=2.6->tensorflow_decision_forests) (2.6.0)\n",
      "Requirement already satisfied: typing-extensions~=3.7.4 in /home/indrap24/.conda/envs/tfDL/lib/python3.8/site-packages (from tensorflow~=2.6->tensorflow_decision_forests) (3.7.4.3)\n",
      "Requirement already satisfied: astunparse~=1.6.3 in /home/indrap24/.conda/envs/tfDL/lib/python3.8/site-packages (from tensorflow~=2.6->tensorflow_decision_forests) (1.6.3)\n",
      "Requirement already satisfied: opt-einsum~=3.3.0 in /home/indrap24/.conda/envs/tfDL/lib/python3.8/site-packages (from tensorflow~=2.6->tensorflow_decision_forests) (3.3.0)\n",
      "Requirement already satisfied: tensorboard~=2.6 in /home/indrap24/.conda/envs/tfDL/lib/python3.8/site-packages (from tensorflow~=2.6->tensorflow_decision_forests) (2.6.0)\n",
      "Requirement already satisfied: termcolor~=1.1.0 in /home/indrap24/.conda/envs/tfDL/lib/python3.8/site-packages (from tensorflow~=2.6->tensorflow_decision_forests) (1.1.0)\n",
      "Requirement already satisfied: google-pasta~=0.2 in /home/indrap24/.conda/envs/tfDL/lib/python3.8/site-packages (from tensorflow~=2.6->tensorflow_decision_forests) (0.2.0)\n",
      "Requirement already satisfied: h5py~=3.1.0 in /home/indrap24/.conda/envs/tfDL/lib/python3.8/site-packages (from tensorflow~=2.6->tensorflow_decision_forests) (3.1.0)\n",
      "Requirement already satisfied: keras-preprocessing~=1.1.2 in /home/indrap24/.conda/envs/tfDL/lib/python3.8/site-packages (from tensorflow~=2.6->tensorflow_decision_forests) (1.1.2)\n",
      "Requirement already satisfied: protobuf>=3.9.2 in /home/indrap24/.conda/envs/tfDL/lib/python3.8/site-packages (from tensorflow~=2.6->tensorflow_decision_forests) (3.17.2)\n",
      "Requirement already satisfied: tensorboard-plugin-wit>=1.6.0 in /home/indrap24/.conda/envs/tfDL/lib/python3.8/site-packages (from tensorboard~=2.6->tensorflow~=2.6->tensorflow_decision_forests) (1.8.0)\n",
      "Requirement already satisfied: tensorboard-data-server<0.7.0,>=0.6.0 in /home/indrap24/.conda/envs/tfDL/lib/python3.8/site-packages (from tensorboard~=2.6->tensorflow~=2.6->tensorflow_decision_forests) (0.6.1)\n",
      "Requirement already satisfied: google-auth-oauthlib<0.5,>=0.4.1 in /home/indrap24/.conda/envs/tfDL/lib/python3.8/site-packages (from tensorboard~=2.6->tensorflow~=2.6->tensorflow_decision_forests) (0.4.4)\n",
      "Requirement already satisfied: google-auth<2,>=1.6.3 in /home/indrap24/.conda/envs/tfDL/lib/python3.8/site-packages (from tensorboard~=2.6->tensorflow~=2.6->tensorflow_decision_forests) (1.30.1)\n",
      "Requirement already satisfied: setuptools>=41.0.0 in /home/indrap24/.conda/envs/tfDL/lib/python3.8/site-packages (from tensorboard~=2.6->tensorflow~=2.6->tensorflow_decision_forests) (52.0.0.post20210125)\n",
      "Requirement already satisfied: requests<3,>=2.21.0 in /home/indrap24/.conda/envs/tfDL/lib/python3.8/site-packages (from tensorboard~=2.6->tensorflow~=2.6->tensorflow_decision_forests) (2.25.1)\n",
      "Requirement already satisfied: werkzeug>=0.11.15 in /home/indrap24/.conda/envs/tfDL/lib/python3.8/site-packages (from tensorboard~=2.6->tensorflow~=2.6->tensorflow_decision_forests) (2.0.1)\n",
      "Requirement already satisfied: markdown>=2.6.8 in /home/indrap24/.conda/envs/tfDL/lib/python3.8/site-packages (from tensorboard~=2.6->tensorflow~=2.6->tensorflow_decision_forests) (3.3.4)\n",
      "Requirement already satisfied: rsa<5,>=3.1.4 in /home/indrap24/.conda/envs/tfDL/lib/python3.8/site-packages (from google-auth<2,>=1.6.3->tensorboard~=2.6->tensorflow~=2.6->tensorflow_decision_forests) (4.7.2)\n",
      "Requirement already satisfied: cachetools<5.0,>=2.0.0 in /home/indrap24/.conda/envs/tfDL/lib/python3.8/site-packages (from google-auth<2,>=1.6.3->tensorboard~=2.6->tensorflow~=2.6->tensorflow_decision_forests) (4.2.2)\n",
      "Requirement already satisfied: pyasn1-modules>=0.2.1 in /home/indrap24/.conda/envs/tfDL/lib/python3.8/site-packages (from google-auth<2,>=1.6.3->tensorboard~=2.6->tensorflow~=2.6->tensorflow_decision_forests) (0.2.8)\n",
      "Requirement already satisfied: requests-oauthlib>=0.7.0 in /home/indrap24/.conda/envs/tfDL/lib/python3.8/site-packages (from google-auth-oauthlib<0.5,>=0.4.1->tensorboard~=2.6->tensorflow~=2.6->tensorflow_decision_forests) (1.3.0)\n",
      "Requirement already satisfied: pyasn1<0.5.0,>=0.4.6 in /home/indrap24/.conda/envs/tfDL/lib/python3.8/site-packages (from pyasn1-modules>=0.2.1->google-auth<2,>=1.6.3->tensorboard~=2.6->tensorflow~=2.6->tensorflow_decision_forests) (0.4.8)\n",
      "Requirement already satisfied: idna<3,>=2.5 in /home/indrap24/.conda/envs/tfDL/lib/python3.8/site-packages (from requests<3,>=2.21.0->tensorboard~=2.6->tensorflow~=2.6->tensorflow_decision_forests) (2.10)\n",
      "Requirement already satisfied: certifi>=2017.4.17 in /home/indrap24/.conda/envs/tfDL/lib/python3.8/site-packages (from requests<3,>=2.21.0->tensorboard~=2.6->tensorflow~=2.6->tensorflow_decision_forests) (2021.5.30)\n",
      "Requirement already satisfied: urllib3<1.27,>=1.21.1 in /home/indrap24/.conda/envs/tfDL/lib/python3.8/site-packages (from requests<3,>=2.21.0->tensorboard~=2.6->tensorflow~=2.6->tensorflow_decision_forests) (1.26.5)\n",
      "Requirement already satisfied: chardet<5,>=3.0.2 in /home/indrap24/.conda/envs/tfDL/lib/python3.8/site-packages (from requests<3,>=2.21.0->tensorboard~=2.6->tensorflow~=2.6->tensorflow_decision_forests) (4.0.0)\n",
      "Requirement already satisfied: oauthlib>=3.0.0 in /home/indrap24/.conda/envs/tfDL/lib/python3.8/site-packages (from requests-oauthlib>=0.7.0->google-auth-oauthlib<0.5,>=0.4.1->tensorboard~=2.6->tensorflow~=2.6->tensorflow_decision_forests) (3.1.1)\n",
      "Requirement already satisfied: pytz>=2017.3 in /home/indrap24/.conda/envs/tfDL/lib/python3.8/site-packages (from pandas->tensorflow_decision_forests) (2021.1)\n",
      "Requirement already satisfied: python-dateutil>=2.7.3 in /home/indrap24/.conda/envs/tfDL/lib/python3.8/site-packages (from pandas->tensorflow_decision_forests) (2.8.1)\n",
      "Collecting wurlitzer\n",
      "  Downloading wurlitzer-3.0.2-py3-none-any.whl (7.3 kB)\n",
      "Installing collected packages: wurlitzer\n",
      "Successfully installed wurlitzer-3.0.2\n"
     ]
    }
   ],
   "metadata": {}
  },
  {
   "cell_type": "markdown",
   "source": [
    "## Imports"
   ],
   "metadata": {}
  },
  {
   "cell_type": "code",
   "execution_count": 2,
   "source": [
    "import tensorflow_decision_forests as tfdf\n",
    "\n",
    "import os\n",
    "import numpy as np\n",
    "import pandas as pd\n",
    "import tensorflow as tf\n",
    "import math\n",
    "from wurlitzer import sys_pipes"
   ],
   "outputs": [],
   "metadata": {}
  },
  {
   "cell_type": "code",
   "execution_count": 3,
   "source": [
    "# Check the version of TensorFlow Decision Forests\n",
    "print(\"Found TensorFlow Decision Forests v\" + tfdf.__version__)"
   ],
   "outputs": [
    {
     "output_type": "stream",
     "name": "stdout",
     "text": [
      "Found TensorFlow Decision Forests v0.1.9\n"
     ]
    }
   ],
   "metadata": {}
  },
  {
   "cell_type": "markdown",
   "source": [
    "## Training a Random Forest model\n",
    "\n",
    "In this section, we `train`, `evaluate`, `analyse` and `export` a binary classification **Random Forest** trained on the *Palmer's Penguins* dataset."
   ],
   "metadata": {}
  },
  {
   "cell_type": "markdown",
   "source": [
    "### Load the dataset and convert it in a tf.Dataset\n",
    "\n",
    "This dataset is very small (300 examples) and stored as a .csv-like file. Therefore, use **`Pandas`** to load it.\n",
    "\n",
    "`Note: Pandas is practical as you don't have to type in name of the input features to load them. For larger datasets (>1M examples), using the TensorFlow Dataset to read the files may be better suited.`\n",
    "\n",
    "Let's assemble the dataset into a csv file (i.e. add the header), and load it:"
   ],
   "metadata": {}
  },
  {
   "cell_type": "code",
   "execution_count": 4,
   "source": [
    "# Download the dataset\n",
    "!wget -q https://storage.googleapis.com/download.tensorflow.org/data/palmer_penguins/penguins.csv -O /tmp/penguins.csv\n",
    "\n",
    "# Load a dataset into a Pandas Dataframe\n",
    "dataset_df = pd.read_csv(\"/tmp/penguins.csv\")\n",
    "\n",
    "# Display the first 5 examples\n",
    "dataset_df.head()"
   ],
   "outputs": [
    {
     "output_type": "execute_result",
     "data": {
      "text/html": [
       "<div>\n",
       "<style scoped>\n",
       "    .dataframe tbody tr th:only-of-type {\n",
       "        vertical-align: middle;\n",
       "    }\n",
       "\n",
       "    .dataframe tbody tr th {\n",
       "        vertical-align: top;\n",
       "    }\n",
       "\n",
       "    .dataframe thead th {\n",
       "        text-align: right;\n",
       "    }\n",
       "</style>\n",
       "<table border=\"1\" class=\"dataframe\">\n",
       "  <thead>\n",
       "    <tr style=\"text-align: right;\">\n",
       "      <th></th>\n",
       "      <th>species</th>\n",
       "      <th>island</th>\n",
       "      <th>bill_length_mm</th>\n",
       "      <th>bill_depth_mm</th>\n",
       "      <th>flipper_length_mm</th>\n",
       "      <th>body_mass_g</th>\n",
       "      <th>sex</th>\n",
       "      <th>year</th>\n",
       "    </tr>\n",
       "  </thead>\n",
       "  <tbody>\n",
       "    <tr>\n",
       "      <th>0</th>\n",
       "      <td>Adelie</td>\n",
       "      <td>Torgersen</td>\n",
       "      <td>39.1</td>\n",
       "      <td>18.7</td>\n",
       "      <td>181.0</td>\n",
       "      <td>3750.0</td>\n",
       "      <td>male</td>\n",
       "      <td>2007</td>\n",
       "    </tr>\n",
       "    <tr>\n",
       "      <th>1</th>\n",
       "      <td>Adelie</td>\n",
       "      <td>Torgersen</td>\n",
       "      <td>39.5</td>\n",
       "      <td>17.4</td>\n",
       "      <td>186.0</td>\n",
       "      <td>3800.0</td>\n",
       "      <td>female</td>\n",
       "      <td>2007</td>\n",
       "    </tr>\n",
       "    <tr>\n",
       "      <th>2</th>\n",
       "      <td>Adelie</td>\n",
       "      <td>Torgersen</td>\n",
       "      <td>40.3</td>\n",
       "      <td>18.0</td>\n",
       "      <td>195.0</td>\n",
       "      <td>3250.0</td>\n",
       "      <td>female</td>\n",
       "      <td>2007</td>\n",
       "    </tr>\n",
       "    <tr>\n",
       "      <th>3</th>\n",
       "      <td>Adelie</td>\n",
       "      <td>Torgersen</td>\n",
       "      <td>NaN</td>\n",
       "      <td>NaN</td>\n",
       "      <td>NaN</td>\n",
       "      <td>NaN</td>\n",
       "      <td>NaN</td>\n",
       "      <td>2007</td>\n",
       "    </tr>\n",
       "    <tr>\n",
       "      <th>4</th>\n",
       "      <td>Adelie</td>\n",
       "      <td>Torgersen</td>\n",
       "      <td>36.7</td>\n",
       "      <td>19.3</td>\n",
       "      <td>193.0</td>\n",
       "      <td>3450.0</td>\n",
       "      <td>female</td>\n",
       "      <td>2007</td>\n",
       "    </tr>\n",
       "  </tbody>\n",
       "</table>\n",
       "</div>"
      ],
      "text/plain": [
       "  species     island  bill_length_mm  bill_depth_mm  flipper_length_mm  \\\n",
       "0  Adelie  Torgersen            39.1           18.7              181.0   \n",
       "1  Adelie  Torgersen            39.5           17.4              186.0   \n",
       "2  Adelie  Torgersen            40.3           18.0              195.0   \n",
       "3  Adelie  Torgersen             NaN            NaN                NaN   \n",
       "4  Adelie  Torgersen            36.7           19.3              193.0   \n",
       "\n",
       "   body_mass_g     sex  year  \n",
       "0       3750.0    male  2007  \n",
       "1       3800.0  female  2007  \n",
       "2       3250.0  female  2007  \n",
       "3          NaN     NaN  2007  \n",
       "4       3450.0  female  2007  "
      ]
     },
     "metadata": {},
     "execution_count": 4
    }
   ],
   "metadata": {}
  },
  {
   "cell_type": "code",
   "execution_count": null,
   "source": [],
   "outputs": [],
   "metadata": {}
  }
 ],
 "metadata": {
  "orig_nbformat": 4,
  "language_info": {
   "name": "python",
   "version": "3.8.10",
   "mimetype": "text/x-python",
   "codemirror_mode": {
    "name": "ipython",
    "version": 3
   },
   "pygments_lexer": "ipython3",
   "nbconvert_exporter": "python",
   "file_extension": ".py"
  },
  "kernelspec": {
   "name": "python3",
   "display_name": "Python 3.8.10 64-bit ('tfDL': conda)"
  },
  "interpreter": {
   "hash": "f3bd96fac0d0361c8094fbd918b7160becd695dc2f26b6bcb4c8f727bae37135"
  }
 },
 "nbformat": 4,
 "nbformat_minor": 2
}