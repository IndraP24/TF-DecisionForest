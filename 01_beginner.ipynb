{
 "cells": [
  {
   "cell_type": "markdown",
   "source": [
    "# Build, train and evaluate models with TensorFlow Decision Forests"
   ],
   "metadata": {}
  },
  {
   "cell_type": "markdown",
   "source": [
    "TensorFlow Decision Forests (TF-DF) is a library for the training, evaluation, interpretation and inference of Decision Forest models.\n",
    "\n",
    "In this tutorial, I learned how to:\n",
    "\n",
    "1. Train a binary classification Random Forest on a dataset containing numerical, categorical and missing features.\n",
    "2. Evaluate the model on a test dataset.\n",
    "3. Prepare the model for [TensorFlow Serving](https://www.tensorflow.org/tfx/guide/serving).\n",
    "4. Examine the overall structure of the model and the importance of each feature.\n",
    "5. Re-train the model with a different learning algorithm (Gradient Boosted Decision Trees).\n",
    "6. Use a different set of input features.\n",
    "7. Change the hyperparameters of the model.\n",
    "8. Preprocess the features.\n",
    "9. Train a model for regression.\n",
    "10. Train a model for ranking.\n",
    "1. \n",
    "Detailed documentation is available in the [user manual](https://github.com/tensorflow/decision-forests/documentation). The [example](https://github.com/tensorflow/decision-forests/examples) directory contains other end-to-end examples."
   ],
   "metadata": {}
  },
  {
   "cell_type": "code",
   "execution_count": 1,
   "source": [
    "!pip install tensorflow_decision_forests\n",
    "!pip install wurlitzer"
   ],
   "outputs": [
    {
     "output_type": "stream",
     "name": "stdout",
     "text": [
      "Requirement already satisfied: tensorflow_decision_forests in /home/indrap24/.conda/envs/tfDL/lib/python3.8/site-packages (0.1.9)\n",
      "Requirement already satisfied: tensorflow~=2.6 in /home/indrap24/.conda/envs/tfDL/lib/python3.8/site-packages (from tensorflow_decision_forests) (2.6.0)\n",
      "Requirement already satisfied: six in /home/indrap24/.conda/envs/tfDL/lib/python3.8/site-packages (from tensorflow_decision_forests) (1.15.0)\n",
      "Requirement already satisfied: absl-py in /home/indrap24/.conda/envs/tfDL/lib/python3.8/site-packages (from tensorflow_decision_forests) (0.12.0)\n",
      "Requirement already satisfied: numpy in /home/indrap24/.conda/envs/tfDL/lib/python3.8/site-packages (from tensorflow_decision_forests) (1.19.5)\n",
      "Requirement already satisfied: wheel in /home/indrap24/.conda/envs/tfDL/lib/python3.8/site-packages (from tensorflow_decision_forests) (0.36.2)\n",
      "Requirement already satisfied: pandas in /home/indrap24/.conda/envs/tfDL/lib/python3.8/site-packages (from tensorflow_decision_forests) (1.2.5)\n",
      "Requirement already satisfied: clang~=5.0 in /home/indrap24/.conda/envs/tfDL/lib/python3.8/site-packages (from tensorflow~=2.6->tensorflow_decision_forests) (5.0)\n",
      "Requirement already satisfied: grpcio<2.0,>=1.37.0 in /home/indrap24/.conda/envs/tfDL/lib/python3.8/site-packages (from tensorflow~=2.6->tensorflow_decision_forests) (1.40.0)\n",
      "Requirement already satisfied: flatbuffers~=1.12.0 in /home/indrap24/.conda/envs/tfDL/lib/python3.8/site-packages (from tensorflow~=2.6->tensorflow_decision_forests) (1.12)\n",
      "Requirement already satisfied: tensorflow-estimator~=2.6 in /home/indrap24/.conda/envs/tfDL/lib/python3.8/site-packages (from tensorflow~=2.6->tensorflow_decision_forests) (2.6.0)\n",
      "Requirement already satisfied: wrapt~=1.12.1 in /home/indrap24/.conda/envs/tfDL/lib/python3.8/site-packages (from tensorflow~=2.6->tensorflow_decision_forests) (1.12.1)\n",
      "Requirement already satisfied: gast==0.4.0 in /home/indrap24/.conda/envs/tfDL/lib/python3.8/site-packages (from tensorflow~=2.6->tensorflow_decision_forests) (0.4.0)\n",
      "Requirement already satisfied: keras~=2.6 in /home/indrap24/.conda/envs/tfDL/lib/python3.8/site-packages (from tensorflow~=2.6->tensorflow_decision_forests) (2.6.0)\n",
      "Requirement already satisfied: typing-extensions~=3.7.4 in /home/indrap24/.conda/envs/tfDL/lib/python3.8/site-packages (from tensorflow~=2.6->tensorflow_decision_forests) (3.7.4.3)\n",
      "Requirement already satisfied: astunparse~=1.6.3 in /home/indrap24/.conda/envs/tfDL/lib/python3.8/site-packages (from tensorflow~=2.6->tensorflow_decision_forests) (1.6.3)\n",
      "Requirement already satisfied: opt-einsum~=3.3.0 in /home/indrap24/.conda/envs/tfDL/lib/python3.8/site-packages (from tensorflow~=2.6->tensorflow_decision_forests) (3.3.0)\n",
      "Requirement already satisfied: tensorboard~=2.6 in /home/indrap24/.conda/envs/tfDL/lib/python3.8/site-packages (from tensorflow~=2.6->tensorflow_decision_forests) (2.6.0)\n",
      "Requirement already satisfied: termcolor~=1.1.0 in /home/indrap24/.conda/envs/tfDL/lib/python3.8/site-packages (from tensorflow~=2.6->tensorflow_decision_forests) (1.1.0)\n",
      "Requirement already satisfied: google-pasta~=0.2 in /home/indrap24/.conda/envs/tfDL/lib/python3.8/site-packages (from tensorflow~=2.6->tensorflow_decision_forests) (0.2.0)\n",
      "Requirement already satisfied: h5py~=3.1.0 in /home/indrap24/.conda/envs/tfDL/lib/python3.8/site-packages (from tensorflow~=2.6->tensorflow_decision_forests) (3.1.0)\n",
      "Requirement already satisfied: keras-preprocessing~=1.1.2 in /home/indrap24/.conda/envs/tfDL/lib/python3.8/site-packages (from tensorflow~=2.6->tensorflow_decision_forests) (1.1.2)\n",
      "Requirement already satisfied: protobuf>=3.9.2 in /home/indrap24/.conda/envs/tfDL/lib/python3.8/site-packages (from tensorflow~=2.6->tensorflow_decision_forests) (3.17.2)\n",
      "Requirement already satisfied: tensorboard-plugin-wit>=1.6.0 in /home/indrap24/.conda/envs/tfDL/lib/python3.8/site-packages (from tensorboard~=2.6->tensorflow~=2.6->tensorflow_decision_forests) (1.8.0)\n",
      "Requirement already satisfied: tensorboard-data-server<0.7.0,>=0.6.0 in /home/indrap24/.conda/envs/tfDL/lib/python3.8/site-packages (from tensorboard~=2.6->tensorflow~=2.6->tensorflow_decision_forests) (0.6.1)\n",
      "Requirement already satisfied: google-auth-oauthlib<0.5,>=0.4.1 in /home/indrap24/.conda/envs/tfDL/lib/python3.8/site-packages (from tensorboard~=2.6->tensorflow~=2.6->tensorflow_decision_forests) (0.4.4)\n",
      "Requirement already satisfied: google-auth<2,>=1.6.3 in /home/indrap24/.conda/envs/tfDL/lib/python3.8/site-packages (from tensorboard~=2.6->tensorflow~=2.6->tensorflow_decision_forests) (1.30.1)\n",
      "Requirement already satisfied: setuptools>=41.0.0 in /home/indrap24/.conda/envs/tfDL/lib/python3.8/site-packages (from tensorboard~=2.6->tensorflow~=2.6->tensorflow_decision_forests) (52.0.0.post20210125)\n",
      "Requirement already satisfied: requests<3,>=2.21.0 in /home/indrap24/.conda/envs/tfDL/lib/python3.8/site-packages (from tensorboard~=2.6->tensorflow~=2.6->tensorflow_decision_forests) (2.25.1)\n",
      "Requirement already satisfied: werkzeug>=0.11.15 in /home/indrap24/.conda/envs/tfDL/lib/python3.8/site-packages (from tensorboard~=2.6->tensorflow~=2.6->tensorflow_decision_forests) (2.0.1)\n",
      "Requirement already satisfied: markdown>=2.6.8 in /home/indrap24/.conda/envs/tfDL/lib/python3.8/site-packages (from tensorboard~=2.6->tensorflow~=2.6->tensorflow_decision_forests) (3.3.4)\n",
      "Requirement already satisfied: rsa<5,>=3.1.4 in /home/indrap24/.conda/envs/tfDL/lib/python3.8/site-packages (from google-auth<2,>=1.6.3->tensorboard~=2.6->tensorflow~=2.6->tensorflow_decision_forests) (4.7.2)\n",
      "Requirement already satisfied: cachetools<5.0,>=2.0.0 in /home/indrap24/.conda/envs/tfDL/lib/python3.8/site-packages (from google-auth<2,>=1.6.3->tensorboard~=2.6->tensorflow~=2.6->tensorflow_decision_forests) (4.2.2)\n",
      "Requirement already satisfied: pyasn1-modules>=0.2.1 in /home/indrap24/.conda/envs/tfDL/lib/python3.8/site-packages (from google-auth<2,>=1.6.3->tensorboard~=2.6->tensorflow~=2.6->tensorflow_decision_forests) (0.2.8)\n",
      "Requirement already satisfied: requests-oauthlib>=0.7.0 in /home/indrap24/.conda/envs/tfDL/lib/python3.8/site-packages (from google-auth-oauthlib<0.5,>=0.4.1->tensorboard~=2.6->tensorflow~=2.6->tensorflow_decision_forests) (1.3.0)\n",
      "Requirement already satisfied: pyasn1<0.5.0,>=0.4.6 in /home/indrap24/.conda/envs/tfDL/lib/python3.8/site-packages (from pyasn1-modules>=0.2.1->google-auth<2,>=1.6.3->tensorboard~=2.6->tensorflow~=2.6->tensorflow_decision_forests) (0.4.8)\n",
      "Requirement already satisfied: idna<3,>=2.5 in /home/indrap24/.conda/envs/tfDL/lib/python3.8/site-packages (from requests<3,>=2.21.0->tensorboard~=2.6->tensorflow~=2.6->tensorflow_decision_forests) (2.10)\n",
      "Requirement already satisfied: certifi>=2017.4.17 in /home/indrap24/.conda/envs/tfDL/lib/python3.8/site-packages (from requests<3,>=2.21.0->tensorboard~=2.6->tensorflow~=2.6->tensorflow_decision_forests) (2021.5.30)\n",
      "Requirement already satisfied: urllib3<1.27,>=1.21.1 in /home/indrap24/.conda/envs/tfDL/lib/python3.8/site-packages (from requests<3,>=2.21.0->tensorboard~=2.6->tensorflow~=2.6->tensorflow_decision_forests) (1.26.5)\n",
      "Requirement already satisfied: chardet<5,>=3.0.2 in /home/indrap24/.conda/envs/tfDL/lib/python3.8/site-packages (from requests<3,>=2.21.0->tensorboard~=2.6->tensorflow~=2.6->tensorflow_decision_forests) (4.0.0)\n",
      "Requirement already satisfied: oauthlib>=3.0.0 in /home/indrap24/.conda/envs/tfDL/lib/python3.8/site-packages (from requests-oauthlib>=0.7.0->google-auth-oauthlib<0.5,>=0.4.1->tensorboard~=2.6->tensorflow~=2.6->tensorflow_decision_forests) (3.1.1)\n",
      "Requirement already satisfied: pytz>=2017.3 in /home/indrap24/.conda/envs/tfDL/lib/python3.8/site-packages (from pandas->tensorflow_decision_forests) (2021.1)\n",
      "Requirement already satisfied: python-dateutil>=2.7.3 in /home/indrap24/.conda/envs/tfDL/lib/python3.8/site-packages (from pandas->tensorflow_decision_forests) (2.8.1)\n",
      "Collecting wurlitzer\n",
      "  Downloading wurlitzer-3.0.2-py3-none-any.whl (7.3 kB)\n",
      "Installing collected packages: wurlitzer\n",
      "Successfully installed wurlitzer-3.0.2\n"
     ]
    }
   ],
   "metadata": {}
  },
  {
   "cell_type": "markdown",
   "source": [
    "## Imports"
   ],
   "metadata": {}
  },
  {
   "cell_type": "code",
   "execution_count": 2,
   "source": [
    "import tensorflow_decision_forests as tfdf\n",
    "\n",
    "import os\n",
    "import numpy as np\n",
    "import pandas as pd\n",
    "import tensorflow as tf\n",
    "import math\n",
    "from wurlitzer import sys_pipes"
   ],
   "outputs": [],
   "metadata": {}
  },
  {
   "cell_type": "code",
   "execution_count": 3,
   "source": [
    "# Check the version of TensorFlow Decision Forests\n",
    "print(\"Found TensorFlow Decision Forests v\" + tfdf.__version__)"
   ],
   "outputs": [
    {
     "output_type": "stream",
     "name": "stdout",
     "text": [
      "Found TensorFlow Decision Forests v0.1.9\n"
     ]
    }
   ],
   "metadata": {}
  },
  {
   "cell_type": "markdown",
   "source": [
    "## Training a Random Forest model\n",
    "\n",
    "In this section, we `train`, `evaluate`, `analyse` and `export` a binary classification **Random Forest** trained on the *Palmer's Penguins* dataset."
   ],
   "metadata": {}
  },
  {
   "cell_type": "markdown",
   "source": [
    "### Load the dataset\n",
    "\n",
    "This dataset is very small (300 examples) and stored as a .csv-like file. Therefore, use **`Pandas`** to load it.\n",
    "\n",
    "`Note: Pandas is practical as you don't have to type in name of the input features to load them. For larger datasets (>1M examples), using the TensorFlow Dataset to read the files may be better suited.`\n",
    "\n",
    "Let's assemble the dataset into a csv file (i.e. add the header), and load it:"
   ],
   "metadata": {}
  },
  {
   "cell_type": "code",
   "execution_count": 6,
   "source": [
    "# Download the dataset\n",
    "!wget -q https://storage.googleapis.com/download.tensorflow.org/data/palmer_penguins/penguins.csv -O ./data/penguins.csv\n",
    "\n",
    "# Load a dataset into a Pandas Dataframe\n",
    "dataset_df = pd.read_csv(\"./data/penguins.csv\")\n",
    "\n",
    "# Display the first 5 examples\n",
    "dataset_df.head()"
   ],
   "outputs": [
    {
     "output_type": "execute_result",
     "data": {
      "text/html": [
       "<div>\n",
       "<style scoped>\n",
       "    .dataframe tbody tr th:only-of-type {\n",
       "        vertical-align: middle;\n",
       "    }\n",
       "\n",
       "    .dataframe tbody tr th {\n",
       "        vertical-align: top;\n",
       "    }\n",
       "\n",
       "    .dataframe thead th {\n",
       "        text-align: right;\n",
       "    }\n",
       "</style>\n",
       "<table border=\"1\" class=\"dataframe\">\n",
       "  <thead>\n",
       "    <tr style=\"text-align: right;\">\n",
       "      <th></th>\n",
       "      <th>species</th>\n",
       "      <th>island</th>\n",
       "      <th>bill_length_mm</th>\n",
       "      <th>bill_depth_mm</th>\n",
       "      <th>flipper_length_mm</th>\n",
       "      <th>body_mass_g</th>\n",
       "      <th>sex</th>\n",
       "      <th>year</th>\n",
       "    </tr>\n",
       "  </thead>\n",
       "  <tbody>\n",
       "    <tr>\n",
       "      <th>0</th>\n",
       "      <td>Adelie</td>\n",
       "      <td>Torgersen</td>\n",
       "      <td>39.1</td>\n",
       "      <td>18.7</td>\n",
       "      <td>181.0</td>\n",
       "      <td>3750.0</td>\n",
       "      <td>male</td>\n",
       "      <td>2007</td>\n",
       "    </tr>\n",
       "    <tr>\n",
       "      <th>1</th>\n",
       "      <td>Adelie</td>\n",
       "      <td>Torgersen</td>\n",
       "      <td>39.5</td>\n",
       "      <td>17.4</td>\n",
       "      <td>186.0</td>\n",
       "      <td>3800.0</td>\n",
       "      <td>female</td>\n",
       "      <td>2007</td>\n",
       "    </tr>\n",
       "    <tr>\n",
       "      <th>2</th>\n",
       "      <td>Adelie</td>\n",
       "      <td>Torgersen</td>\n",
       "      <td>40.3</td>\n",
       "      <td>18.0</td>\n",
       "      <td>195.0</td>\n",
       "      <td>3250.0</td>\n",
       "      <td>female</td>\n",
       "      <td>2007</td>\n",
       "    </tr>\n",
       "    <tr>\n",
       "      <th>3</th>\n",
       "      <td>Adelie</td>\n",
       "      <td>Torgersen</td>\n",
       "      <td>NaN</td>\n",
       "      <td>NaN</td>\n",
       "      <td>NaN</td>\n",
       "      <td>NaN</td>\n",
       "      <td>NaN</td>\n",
       "      <td>2007</td>\n",
       "    </tr>\n",
       "    <tr>\n",
       "      <th>4</th>\n",
       "      <td>Adelie</td>\n",
       "      <td>Torgersen</td>\n",
       "      <td>36.7</td>\n",
       "      <td>19.3</td>\n",
       "      <td>193.0</td>\n",
       "      <td>3450.0</td>\n",
       "      <td>female</td>\n",
       "      <td>2007</td>\n",
       "    </tr>\n",
       "  </tbody>\n",
       "</table>\n",
       "</div>"
      ],
      "text/plain": [
       "  species     island  bill_length_mm  bill_depth_mm  flipper_length_mm  \\\n",
       "0  Adelie  Torgersen            39.1           18.7              181.0   \n",
       "1  Adelie  Torgersen            39.5           17.4              186.0   \n",
       "2  Adelie  Torgersen            40.3           18.0              195.0   \n",
       "3  Adelie  Torgersen             NaN            NaN                NaN   \n",
       "4  Adelie  Torgersen            36.7           19.3              193.0   \n",
       "\n",
       "   body_mass_g     sex  year  \n",
       "0       3750.0    male  2007  \n",
       "1       3800.0  female  2007  \n",
       "2       3250.0  female  2007  \n",
       "3          NaN     NaN  2007  \n",
       "4       3450.0  female  2007  "
      ]
     },
     "metadata": {},
     "execution_count": 6
    }
   ],
   "metadata": {}
  },
  {
   "cell_type": "markdown",
   "source": [
    "The dataset contains a mix of `numerical` (e.g. **`bill_depth_mm`**), `categorical` (e.g. **`island`**) and `missing features`. TF-DF supports all these feature types natively (*differently than NN based models*), therefore there is no need for preprocessing in the form of one-hot encoding, normalization or extra is_present feature.\n",
    "\n",
    "Labels are a bit different: Keras metrics expect integers. The label (**`species`**) is stored as a string, so let's convert it into an integer."
   ],
   "metadata": {}
  },
  {
   "cell_type": "markdown",
   "source": [
    "### Data Preprocessing\n",
    "\n",
    "1. Encode the categorical label into an integer.\n",
    "2. Split the dataset into a training and a testing dataset.\n",
    "3. Convert the pandas dataframe (**`pd.Dataframe`**) into tensorflow datasets (**`tf.data.Dataset`**)"
   ],
   "metadata": {}
  },
  {
   "cell_type": "code",
   "execution_count": 7,
   "source": [
    "# Details:\n",
    "# This stage is necessary if your classification label is represented as a\n",
    "# string. Note: Keras expected classification labels to be integers.\n",
    "\n",
    "# Name of the label column.\n",
    "label = \"species\"\n",
    "\n",
    "classes = dataset_df[label].unique().tolist()\n",
    "print(f\"Label classes: {classes}\")\n",
    "\n",
    "dataset_df[label] = dataset_df[label].map(classes.index)"
   ],
   "outputs": [
    {
     "output_type": "stream",
     "name": "stdout",
     "text": [
      "Label classes: ['Adelie', 'Gentoo', 'Chinstrap']\n"
     ]
    }
   ],
   "metadata": {}
  },
  {
   "cell_type": "code",
   "execution_count": 21,
   "source": [
    "def split_dataset(dataset, test_ratio=0.30):\n",
    "    \"\"\"Splits a pandas dataframe in two\"\"\"\n",
    "    test_indices = np.random.random_sample(len(dataset)) < test_ratio\n",
    "    return dataset[~test_indices], dataset[test_indices]\n",
    "\n",
    "\n",
    "train_ds_pd, test_ds_pd = split_dataset(dataset_df)\n",
    "print(f\"{len(train_ds_pd)} examples in training and {len(test_ds_pd)} examples for testing\")"
   ],
   "outputs": [
    {
     "output_type": "stream",
     "name": "stdout",
     "text": [
      "246 examples in training and 98 examples for testing\n"
     ]
    }
   ],
   "metadata": {}
  },
  {
   "cell_type": "code",
   "execution_count": 22,
   "source": [
    "train_ds = tfdf.keras.pd_dataframe_to_tf_dataset(train_ds_pd, label=label)\n",
    "test_ds = tfdf.keras.pd_dataframe_to_tf_dataset(test_ds_pd, label=label)"
   ],
   "outputs": [],
   "metadata": {}
  },
  {
   "cell_type": "markdown",
   "source": [
    "### Training the Model"
   ],
   "metadata": {}
  },
  {
   "cell_type": "code",
   "execution_count": 26,
   "source": [
    "# Specify the model\n",
    "model_1 = tfdf.keras.RandomForestModel()\n",
    "\n",
    "# Optionally, add evaluation metrics\n",
    "model_1.compile(\n",
    "    metrics=['accuracy']\n",
    ")\n",
    "\n",
    "# Train the model\n",
    "# `sys_pipes` is optional. It enables the display of the training logs\n",
    "with sys_pipes():\n",
    "    model_1.fit(x=train_ds)"
   ],
   "outputs": [
    {
     "output_type": "stream",
     "name": "stderr",
     "text": [
      "2021-09-29 18:59:36.639946: I tensorflow/compiler/mlir/mlir_graph_optimization_pass.cc:185] None of the MLIR Optimization Passes are enabled (registered 2)\n"
     ]
    },
    {
     "output_type": "stream",
     "name": "stdout",
     "text": [
      "4/4 [==============================] - 6s 5ms/step\n"
     ]
    },
    {
     "output_type": "stream",
     "name": "stderr",
     "text": [
      "[INFO kernel.cc:746] Start Yggdrasil model training\n",
      "[INFO kernel.cc:747] Collect training examples\n",
      "[INFO kernel.cc:392] Number of batches: 4\n",
      "[INFO kernel.cc:393] Number of examples: 246\n",
      "[INFO kernel.cc:769] Dataset:\n",
      "Number of records: 246\n",
      "Number of columns: 8\n",
      "\n",
      "Number of columns by type:\n",
      "\tNUMERICAL: 5 (62.5%)\n",
      "\tCATEGORICAL: 3 (37.5%)\n",
      "\n",
      "Columns:\n",
      "\n",
      "NUMERICAL: 5 (62.5%)\n",
      "\t0: \"bill_depth_mm\" NUMERICAL num-nas:1 (0.406504%) mean:17.1257 min:13.1 max:21.2 sd:1.96878\n",
      "\t1: \"bill_length_mm\" NUMERICAL num-nas:1 (0.406504%) mean:44.0747 min:32.1 max:58 sd:5.33557\n",
      "\t2: \"body_mass_g\" NUMERICAL num-nas:1 (0.406504%) mean:4241.12 min:2700 max:6300 sd:831.97\n",
      "\t3: \"flipper_length_mm\" NUMERICAL num-nas:1 (0.406504%) mean:201.498 min:172 max:231 sd:14.3577\n",
      "\t6: \"year\" NUMERICAL mean:2008.04 min:2007 max:2009 sd:0.818165\n",
      "\n",
      "CATEGORICAL: 3 (37.5%)\n",
      "\t4: \"island\" CATEGORICAL has-dict vocab-size:4 zero-ood-items most-frequent:\"Biscoe\" 122 (49.5935%)\n",
      "\t5: \"sex\" CATEGORICAL num-nas:9 (3.65854%) has-dict vocab-size:3 zero-ood-items most-frequent:\"male\" 128 (54.0084%)\n",
      "\t7: \"__LABEL\" CATEGORICAL integerized vocab-size:4 no-ood-item\n",
      "\n",
      "Terminology:\n",
      "\tnas: Number of non-available (i.e. missing) values.\n",
      "\tood: Out of dictionary.\n",
      "\tmanually-defined: Attribute which type is manually defined by the user i.e. the type was not automatically inferred.\n",
      "\ttokenized: The attribute value is obtained through tokenization.\n",
      "\thas-dict: The attribute is attached to a string dictionary e.g. a categorical attribute stored as a string.\n",
      "\tvocab-size: Number of unique values.\n",
      "\n",
      "[INFO kernel.cc:772] Configure learner\n",
      "[INFO kernel.cc:797] Training config:\n",
      "learner: \"RANDOM_FOREST\"\n",
      "features: \"bill_depth_mm\"\n",
      "features: \"bill_length_mm\"\n",
      "features: \"body_mass_g\"\n",
      "features: \"flipper_length_mm\"\n",
      "features: \"island\"\n",
      "features: \"sex\"\n",
      "features: \"year\"\n",
      "label: \"__LABEL\"\n",
      "task: CLASSIFICATION\n",
      "[yggdrasil_decision_forests.model.random_forest.proto.random_forest_config] {\n",
      "  num_trees: 300\n",
      "  decision_tree {\n",
      "    max_depth: 16\n",
      "    min_examples: 5\n",
      "    in_split_min_examples_check: true\n",
      "    missing_value_policy: GLOBAL_IMPUTATION\n",
      "    allow_na_conditions: false\n",
      "    categorical_set_greedy_forward {\n",
      "      sampling: 0.1\n",
      "      max_num_items: -1\n",
      "      min_item_frequency: 1\n",
      "    }\n",
      "    growing_strategy_local {\n",
      "    }\n",
      "    categorical {\n",
      "      cart {\n",
      "      }\n",
      "    }\n",
      "    num_candidate_attributes_ratio: -1\n",
      "    axis_aligned_split {\n",
      "    }\n",
      "    internal {\n",
      "      sorting_strategy: PRESORTED\n",
      "    }\n",
      "  }\n",
      "  winner_take_all_inference: true\n",
      "  compute_oob_performances: true\n",
      "  compute_oob_variable_importances: false\n",
      "  adapt_bootstrap_size_ratio_for_maximum_training_duration: false\n",
      "}\n",
      "\n",
      "[INFO kernel.cc:800] Deployment config:\n",
      "num_threads: 6\n",
      "\n",
      "[INFO kernel.cc:837] Train model\n",
      "[INFO random_forest.cc:303] Training random forest on 246 example(s) and 7 feature(s).\n",
      "[INFO random_forest.cc:578] Training of tree  1/300 (tree index:0) done accuracy:0.923077 logloss:2.77259\n",
      "[INFO random_forest.cc:578] Training of tree  11/300 (tree index:11) done accuracy:0.967213 logloss:0.360984\n",
      "[INFO random_forest.cc:578] Training of tree  21/300 (tree index:21) done accuracy:0.963415 logloss:0.232752\n",
      "[INFO random_forest.cc:578] Training of tree  32/300 (tree index:32) done accuracy:0.971545 logloss:0.090914\n",
      "[INFO random_forest.cc:578] Training of tree  42/300 (tree index:41) done accuracy:0.979675 logloss:0.0841364\n",
      "[INFO random_forest.cc:578] Training of tree  52/300 (tree index:52) done accuracy:0.96748 logloss:0.0823044\n",
      "[INFO random_forest.cc:578] Training of tree  62/300 (tree index:61) done accuracy:0.979675 logloss:0.0804601\n",
      "[INFO random_forest.cc:578] Training of tree  72/300 (tree index:71) done accuracy:0.971545 logloss:0.0844126\n",
      "[INFO random_forest.cc:578] Training of tree  82/300 (tree index:81) done accuracy:0.97561 logloss:0.082639\n",
      "[INFO random_forest.cc:578] Training of tree  92/300 (tree index:91) done accuracy:0.97561 logloss:0.0835833\n",
      "[INFO random_forest.cc:578] Training of tree  102/300 (tree index:101) done accuracy:0.971545 logloss:0.082797\n",
      "[INFO random_forest.cc:578] Training of tree  112/300 (tree index:111) done accuracy:0.97561 logloss:0.0816199\n",
      "[INFO random_forest.cc:578] Training of tree  122/300 (tree index:122) done accuracy:0.979675 logloss:0.0824179\n",
      "[INFO random_forest.cc:578] Training of tree  132/300 (tree index:131) done accuracy:0.979675 logloss:0.0840314\n",
      "[INFO random_forest.cc:578] Training of tree  142/300 (tree index:142) done accuracy:0.979675 logloss:0.0828974\n",
      "[INFO random_forest.cc:578] Training of tree  152/300 (tree index:152) done accuracy:0.97561 logloss:0.083432\n",
      "[INFO random_forest.cc:578] Training of tree  162/300 (tree index:143) done accuracy:0.97561 logloss:0.0828235\n",
      "[INFO random_forest.cc:578] Training of tree  172/300 (tree index:173) done accuracy:0.97561 logloss:0.082265\n",
      "[INFO random_forest.cc:578] Training of tree  182/300 (tree index:180) done accuracy:0.97561 logloss:0.0811873\n",
      "[INFO random_forest.cc:578] Training of tree  192/300 (tree index:191) done accuracy:0.97561 logloss:0.0812804\n",
      "[INFO random_forest.cc:578] Training of tree  202/300 (tree index:204) done accuracy:0.97561 logloss:0.081126\n",
      "[INFO random_forest.cc:578] Training of tree  212/300 (tree index:213) done accuracy:0.979675 logloss:0.0816661\n",
      "[INFO random_forest.cc:578] Training of tree  222/300 (tree index:223) done accuracy:0.979675 logloss:0.0826277\n",
      "[INFO random_forest.cc:578] Training of tree  232/300 (tree index:231) done accuracy:0.979675 logloss:0.0823978\n",
      "[INFO random_forest.cc:578] Training of tree  242/300 (tree index:241) done accuracy:0.97561 logloss:0.0823675\n",
      "[INFO random_forest.cc:578] Training of tree  253/300 (tree index:252) done accuracy:0.97561 logloss:0.0823525\n",
      "[INFO random_forest.cc:578] Training of tree  263/300 (tree index:262) done accuracy:0.979675 logloss:0.0819068\n",
      "[INFO random_forest.cc:578] Training of tree  273/300 (tree index:272) done accuracy:0.979675 logloss:0.0818719\n",
      "[INFO random_forest.cc:578] Training of tree  283/300 (tree index:282) done accuracy:0.979675 logloss:0.0815761\n",
      "[INFO random_forest.cc:578] Training of tree  293/300 (tree index:292) done accuracy:0.979675 logloss:0.0815757\n",
      "[INFO random_forest.cc:578] Training of tree  300/300 (tree index:299) done accuracy:0.979675 logloss:0.0815119\n",
      "[INFO random_forest.cc:645] Final OOB metrics: accuracy:0.979675 logloss:0.0815119\n",
      "[INFO kernel.cc:856] Export model in log directory: /tmp/tmpv33py2my\n",
      "[INFO kernel.cc:864] Save model in resources\n",
      "[INFO kernel.cc:988] Loading model from path\n",
      "[INFO decision_forest.cc:590] Model loaded with 300 root(s), 4842 node(s), and 7 input feature(s).\n",
      "[INFO abstract_model.cc:993] Engine \"RandomForestGeneric\" built\n",
      "[INFO kernel.cc:848] Use fast generic engine\n"
     ]
    }
   ],
   "metadata": {}
  },
  {
   "cell_type": "code",
   "execution_count": null,
   "source": [],
   "outputs": [],
   "metadata": {}
  }
 ],
 "metadata": {
  "orig_nbformat": 4,
  "language_info": {
   "name": "python",
   "version": "3.8.10",
   "mimetype": "text/x-python",
   "codemirror_mode": {
    "name": "ipython",
    "version": 3
   },
   "pygments_lexer": "ipython3",
   "nbconvert_exporter": "python",
   "file_extension": ".py"
  },
  "kernelspec": {
   "name": "python3",
   "display_name": "Python 3.8.10 64-bit ('tfDL': conda)"
  },
  "interpreter": {
   "hash": "f3bd96fac0d0361c8094fbd918b7160becd695dc2f26b6bcb4c8f727bae37135"
  }
 },
 "nbformat": 4,
 "nbformat_minor": 2
}